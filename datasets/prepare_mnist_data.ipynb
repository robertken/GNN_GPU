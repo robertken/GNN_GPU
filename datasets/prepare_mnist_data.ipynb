{
 "cells": [
  {
   "cell_type": "code",
   "execution_count": 21,
   "metadata": {},
   "outputs": [],
   "source": [
    "# For Fashion MNIST\n",
    "#strip the first bytes and combine the labels and data\n",
    "#outputs 2 files, a test and training dataset\n",
    "#the same code will work for regular MNIST too\n",
    "import numpy as np\n",
    "\n",
    "\n",
    "dir = ''\n",
    "testFiles = ['t10k-images-idx3-ubyte','t10k-labels-idx1-ubyte']\n",
    "trainFiles = ['train-images-idx3-ubyte','train-labels-idx1-ubyte']\n",
    "\n",
    "newTestFile = 'fashion_mnist_test_noheader'\n",
    "newTrainFile = 'fashion_mnist_train_noheader'"
   ]
  },
  {
   "cell_type": "code",
   "execution_count": 22,
   "metadata": {},
   "outputs": [],
   "source": [
    "def _read32(bytestream):\n",
    "  dt = np.dtype(np.uint32).newbyteorder('>')\n",
    "  return np.frombuffer(bytestream.read(4), dtype=dt)[0]"
   ]
  },
  {
   "cell_type": "code",
   "execution_count": 23,
   "metadata": {},
   "outputs": [],
   "source": [
    "def readLabels(file):\n",
    "    with open(file, 'rb') as f:\n",
    "        magicNum = _read32(f)\n",
    "        numItems = _read32(f)\n",
    "        buf = f.read(numItems)\n",
    "        labels = np.frombuffer(buf, dtype=np.uint8)\n",
    "    return labels\n",
    "\n",
    "def readImages(file):\n",
    "    with open(file, 'rb') as f:\n",
    "        magicNum = _read32(f)\n",
    "        num_images = _read32(f)\n",
    "        rows = _read32(f)\n",
    "        cols = _read32(f)\n",
    "        buf = f.read(rows * cols * num_images)\n",
    "        data = np.frombuffer(buf, dtype=np.uint8)\n",
    "        data = data.reshape(num_images, 784)\n",
    "    return data"
   ]
  },
  {
   "cell_type": "code",
   "execution_count": 24,
   "metadata": {},
   "outputs": [],
   "source": [
    "def writeNewFile(file, labels, images):\n",
    "    with open(file, 'wb') as nf:\n",
    "        for i in range(len(labels)):\n",
    "            nf.write(labels[i])\n",
    "            nf.write(images[i])"
   ]
  },
  {
   "cell_type": "code",
   "execution_count": 25,
   "metadata": {},
   "outputs": [],
   "source": [
    "testLabels = readLabels(dir+testFiles[1])\n",
    "trainLabels = readLabels(dir+trainFiles[1])\n",
    "testImages = readImages(dir + testFiles[0])\n",
    "trainImages = readImages(dir + trainFiles[0])"
   ]
  },
  {
   "cell_type": "code",
   "execution_count": 26,
   "metadata": {},
   "outputs": [
    {
     "name": "stdout",
     "output_type": "stream",
     "text": [
      "(10000,)\n",
      "(60000,)\n",
      "(10000, 784)\n",
      "(60000, 784)\n"
     ]
    }
   ],
   "source": [
    "\n",
    "print(testLabels.shape)\n",
    "print(trainLabels.shape)\n",
    "print(testImages.shape)\n",
    "print(trainImages.shape)"
   ]
  },
  {
   "cell_type": "markdown",
   "metadata": {},
   "source": [
    "## MNIST"
   ]
  },
  {
   "cell_type": "code",
   "execution_count": 27,
   "metadata": {},
   "outputs": [],
   "source": [
    "testLabels = readLabels(dir+testFiles[1])\n",
    "trainLabels = readLabels(dir+trainFiles[1])\n",
    "testImages = readImages(dir + testFiles[0])\n",
    "trainImages = readImages(dir + trainFiles[0])"
   ]
  },
  {
   "cell_type": "code",
   "execution_count": 28,
   "metadata": {},
   "outputs": [],
   "source": [
    "writeNewFile(dir+newTestFile, testLabels, testImages)\n",
    "writeNewFile(dir+newTrainFile, trainLabels, trainImages)"
   ]
  },
  {
   "cell_type": "markdown",
   "metadata": {},
   "source": [
    "## Big MNIST"
   ]
  },
  {
   "cell_type": "code",
   "execution_count": 45,
   "metadata": {},
   "outputs": [],
   "source": [
    "# multiplier of 100 produces roughly 750 mb test file and 4.4 GB train file\n",
    "multiplier = 10 \n",
    "newTestFile_big = 'mnist_test_noheader_med'\n",
    "newTrainFile_big = 'mnist_train_noheader_med'\n",
    "\n",
    "# multiplier of 100 produces roughly 750 mb test file and 4.4 GB train file\n",
    "#multiplier = 100\n",
    "#newTestFile_big = 'mnist_test_noheader_big'\n",
    "#newTrainFile_big = 'mnist_train_noheader_big'"
   ]
  },
  {
   "cell_type": "code",
   "execution_count": 46,
   "metadata": {},
   "outputs": [
    {
     "name": "stdout",
     "output_type": "stream",
     "text": [
      "Base Shapes:  (10000,) (60000,) (10000, 784) (60000, 784)\n"
     ]
    }
   ],
   "source": [
    "testLabels = readLabels(dir+testFiles[1])\n",
    "trainLabels = readLabels(dir+trainFiles[1])\n",
    "testImages = readImages(dir + testFiles[0])\n",
    "trainImages = readImages(dir + trainFiles[0])\n",
    "\n",
    "print('Base Shapes: ', testLabels.shape, trainLabels.shape, testImages.shape, trainImages.shape)"
   ]
  },
  {
   "cell_type": "code",
   "execution_count": 47,
   "metadata": {},
   "outputs": [],
   "source": [
    "testLabels_big = testLabels\n",
    "trainLabels_big = trainLabels\n",
    "testImages_big = testImages\n",
    "trainImages_big = trainImages\n",
    "\n",
    "\n",
    "for _ in range(multiplier - 1):\n",
    "    testLabels_big = np.append(testLabels_big, testLabels)\n",
    "    trainLabels_big = np.append(trainLabels_big, trainLabels)\n",
    "    testImages_big = np.append(testImages_big, testImages, axis=0)\n",
    "    trainImages_big = np.append(trainImages_big, trainImages, axis=0)"
   ]
  },
  {
   "cell_type": "code",
   "execution_count": 48,
   "metadata": {},
   "outputs": [
    {
     "name": "stdout",
     "output_type": "stream",
     "text": [
      "Final shapes after resize:  (100000,) (600000,) (100000, 784) (600000, 784)\n"
     ]
    }
   ],
   "source": [
    "print('Final shapes after resize: ', testLabels_big.shape, trainLabels_big.shape, testImages_big.shape, trainImages_big.shape)\n"
   ]
  },
  {
   "cell_type": "code",
   "execution_count": 49,
   "metadata": {},
   "outputs": [
    {
     "name": "stdout",
     "output_type": "stream",
     "text": [
      "MNIST_BIG files created\n"
     ]
    }
   ],
   "source": [
    "writeNewFile(dir+newTestFile_big, testLabels_big, testImages_big)\n",
    "writeNewFile(dir+newTrainFile_big, trainLabels_big, trainImages_big)\n",
    "\n",
    "del testLabels_big, trainLabels_big, testImages_big, trainImages_big\n",
    "print('MNIST_BIG files created')"
   ]
  },
  {
   "cell_type": "code",
   "execution_count": null,
   "metadata": {},
   "outputs": [],
   "source": []
  }
 ],
 "metadata": {
  "kernelspec": {
   "display_name": "TensorFlow 2",
   "language": "python",
   "name": "tensorflow2"
  },
  "language_info": {
   "codemirror_mode": {
    "name": "ipython",
    "version": 3
   },
   "file_extension": ".py",
   "mimetype": "text/x-python",
   "name": "python",
   "nbconvert_exporter": "python",
   "pygments_lexer": "ipython3",
   "version": "3.7.3"
  }
 },
 "nbformat": 4,
 "nbformat_minor": 4
}
